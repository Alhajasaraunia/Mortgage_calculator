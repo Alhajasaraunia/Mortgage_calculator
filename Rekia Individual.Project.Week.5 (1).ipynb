{
 "cells": [
  {
   "cell_type": "code",
   "execution_count": 2,
   "id": "41eea9d6-9aba-4bc2-b01d-0c345f227aaf",
   "metadata": {},
   "outputs": [
    {
     "name": "stdin",
     "output_type": "stream",
     "text": [
      "Enter the principal:  100000\n",
      "Enter the interest rate:  7.5\n",
      "Enter the term (in years):  30\n"
     ]
    },
    {
     "name": "stdout",
     "output_type": "stream",
     "text": [
      "The monthly mortgage payment is $699.21\n",
      "The overall amount to be paid is $251717.22\n"
     ]
    }
   ],
   "source": [
    "# Get the inputs from the user\n",
    "principal = float(input(\"Enter the principal: \"))\n",
    "interest_rate = float(input(\"Enter the interest rate: \"))\n",
    "term = int(input(\"Enter the term (in years): \"))\n",
    "\n",
    "# Define a function to calculate the mortgage payment\n",
    "def calculate_mortgage(principal, interest_rate, term):\n",
    "  # Calculate the monthly interest rate\n",
    "  monthly_interest_rate = interest_rate / 100 / 12\n",
    "\n",
    "  # Calculate the number of payments\n",
    "  number_of_payments = term * 12\n",
    "\n",
    "  # Calculate the monthly mortgage payment\n",
    "  mortgage_payment = principal * (monthly_interest_rate / (1 - (1 + monthly_interest_rate) ** (-number_of_payments)))\n",
    "\n",
    "  return mortgage_payment\n",
    "\n",
    "# Calculate the mortgage payment\n",
    "mortgage_payment = calculate_mortgage(principal, interest_rate, term)\n",
    "\n",
    "# Calculate the total monthly payment to be made over the complete period; term of 30\n",
    "overall_total_payment = mortgage_payment * 12 * 30\n",
    "\n",
    "# Print the result\n",
    "print(f\"The monthly mortgage payment is ${mortgage_payment:.2f}\")\n",
    "\n",
    "# Print the Overall Payment to be made over the period of 30 years = 30 * 12\n",
    "print(f\"The overall amount to be paid is ${overall_total_payment:.2f}\")\n",
    "\n",
    "\n",
    "\n"
   ]
  },
  {
   "cell_type": "code",
   "execution_count": null,
   "id": "0e5928dd-49f1-4df9-a869-620d6bdf67f8",
   "metadata": {},
   "outputs": [],
   "source": []
  }
 ],
 "metadata": {
  "kernelspec": {
   "display_name": "Python 3 (ipykernel)",
   "language": "python",
   "name": "python3"
  },
  "language_info": {
   "codemirror_mode": {
    "name": "ipython",
    "version": 3
   },
   "file_extension": ".py",
   "mimetype": "text/x-python",
   "name": "python",
   "nbconvert_exporter": "python",
   "pygments_lexer": "ipython3",
   "version": "3.9.7"
  }
 },
 "nbformat": 4,
 "nbformat_minor": 5
}
